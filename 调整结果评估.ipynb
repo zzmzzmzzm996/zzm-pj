{
 "cells": [
  {
   "cell_type": "code",
   "execution_count": 1,
   "id": "f0fa0cd8",
   "metadata": {},
   "outputs": [],
   "source": [
    "import pandas as pd\n",
    "import numpy as np\n",
    "import csv\n",
    "import re"
   ]
  },
  {
   "cell_type": "code",
   "execution_count": 2,
   "id": "3d5424ba",
   "metadata": {},
   "outputs": [
    {
     "data": {
      "text/plain": [
       "51899"
      ]
     },
     "execution_count": 2,
     "metadata": {},
     "output_type": "execute_result"
    }
   ],
   "source": [
    "dataframe = pd.read_csv('gage2_adjust_record_0322.csv')\n",
    "\n",
    "data = np.array(dataframe)\n",
    "len(data)"
   ]
  },
  {
   "cell_type": "code",
   "execution_count": 3,
   "id": "725cd5b2",
   "metadata": {},
   "outputs": [],
   "source": [
    "# text = str(data[0])\n",
    "# text_list = text.split('\\\\t')\n",
    "# zero = text_list[3]\n",
    "# zero"
   ]
  },
  {
   "cell_type": "code",
   "execution_count": 5,
   "id": "86f07b9b",
   "metadata": {},
   "outputs": [
    {
     "data": {
      "text/plain": [
       "(array(['0', '0', '0', ..., '0', '0', '0'], dtype='<U1'), 51899)"
      ]
     },
     "execution_count": 5,
     "metadata": {},
     "output_type": "execute_result"
    }
   ],
   "source": [
    "record = []\n",
    "for i in range(len(data)):\n",
    "    text = str(data[0])\n",
    "    text_list = text.split('\\\\t')\n",
    "    record.append(text_list[3])\n",
    "record = np.array(record)\n",
    "record,len(record)"
   ]
  },
  {
   "cell_type": "code",
   "execution_count": null,
   "id": "fc79b8aa",
   "metadata": {},
   "outputs": [],
   "source": [
    "dataframe[]"
   ]
  }
 ],
 "metadata": {
  "kernelspec": {
   "display_name": "Python 3",
   "language": "python",
   "name": "python3"
  },
  "language_info": {
   "codemirror_mode": {
    "name": "ipython",
    "version": 3
   },
   "file_extension": ".py",
   "mimetype": "text/x-python",
   "name": "python",
   "nbconvert_exporter": "python",
   "pygments_lexer": "ipython3",
   "version": "3.8.2"
  }
 },
 "nbformat": 4,
 "nbformat_minor": 5
}
