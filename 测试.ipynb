{
 "cells": [
  {
   "cell_type": "code",
   "execution_count": 6,
   "id": "21c83157",
   "metadata": {},
   "outputs": [],
   "source": [
    "import numpy as np\n",
    "from sklearn.experimental import enable_iterative_imputer\n",
    "from sklearn.impute import IterativeImputer\n",
    "import pandas as pd\n",
    "from matplotlib import pyplot as plt \n",
    "from tsmoothie.utils_func import sim_randomwalk\n",
    "from tsmoothie.smoother import LowessSmoother\n",
    "from sklearn.ensemble import RandomForestRegressor\n",
    "from sklearn import preprocessing\n",
    "from sklearn.ensemble import GradientBoostingRegressor\n",
    "from sklearn.ensemble import GradientBoostingRegressor\n",
    "import math\n",
    "import logging\n",
    "import joblib"
   ]
  },
  {
   "cell_type": "code",
   "execution_count": 7,
   "id": "c8580724",
   "metadata": {},
   "outputs": [],
   "source": [
    "path = 'csv_1678826988039.csv'\n",
    "model = joblib.load('model_water.pkl')\n",
    "predict_water = np.zeros(40)"
   ]
  },
  {
   "cell_type": "code",
   "execution_count": 8,
   "id": "74bad106",
   "metadata": {},
   "outputs": [
    {
     "name": "stderr",
     "output_type": "stream",
     "text": [
      "/Users/zzm/Library/Python/3.8/lib/python/site-packages/IPython/core/interactiveshell.py:3437: FutureWarning: The error_bad_lines argument has been deprecated and will be removed in a future version.\n",
      "\n",
      "\n",
      "  exec(code_obj, self.user_global_ns, self.user_ns)\n",
      "Skipping line 135994: Expected 10 fields in line 135994, saw 14\n"
     ]
    }
   ],
   "source": [
    "dataframe = pd.read_csv(path, error_bad_lines=False, engine='python')\n",
    "water = np.array(dataframe.iloc[:, 4])\n",
    "if water.shape[0] < 60:\n",
    "    logging.info(time.strftime('%y-%m-%d %H:%M:%S') + '\\nData water num is not enough, waiting for new round...'\n",
    "                 + '\\n-------------- \\n\\n\\n\\n')\n",
    "    timer = threading.Timer(4, predict1, args=[path, model])\n",
    "    timer.start()\n",
    "water = water[-60:]\n",
    "water_goal = dataframe.iloc[-1, 1]\n",
    "water_downsample = []\n",
    "for i in range(0, 60, 2):\n",
    "    sample = min(water[i], water[i + 1])\n",
    "    water_downsample.append(sample)\n",
    "water_downsample = np.array(water_downsample)\n",
    "water_run = water_downsample.reshape(1, 30)\n",
    "predict_number = model.predict(water_run)"
   ]
  },
  {
   "cell_type": "code",
   "execution_count": 9,
   "id": "791eeb77",
   "metadata": {},
   "outputs": [
    {
     "data": {
      "text/plain": [
       "0.0"
      ]
     },
     "execution_count": 9,
     "metadata": {},
     "output_type": "execute_result"
    }
   ],
   "source": [
    "predict_water = np.append(predict_water, predict_number[0])\n",
    "window = predict_water[-40:]\n",
    "high = window[window > water_goal]\n",
    "ratio = len(high) / 40\n",
    "ratio"
   ]
  },
  {
   "cell_type": "code",
   "execution_count": null,
   "id": "a027c722",
   "metadata": {},
   "outputs": [],
   "source": []
  }
 ],
 "metadata": {
  "kernelspec": {
   "display_name": "Python 3",
   "language": "python",
   "name": "python3"
  },
  "language_info": {
   "codemirror_mode": {
    "name": "ipython",
    "version": 3
   },
   "file_extension": ".py",
   "mimetype": "text/x-python",
   "name": "python",
   "nbconvert_exporter": "python",
   "pygments_lexer": "ipython3",
   "version": "3.8.2"
  }
 },
 "nbformat": 4,
 "nbformat_minor": 5
}
